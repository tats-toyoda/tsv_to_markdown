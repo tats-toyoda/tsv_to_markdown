{
 "cells": [
  {
   "cell_type": "code",
   "execution_count": null,
   "metadata": {
    "collapsed": true
   },
   "outputs": [],
   "source": [
    "# -*- coding: utf-8 -*-\n",
    "import csv\n",
    "import sys\n",
    "from copy import deepcopy"
   ]
  },
  {
   "cell_type": "code",
   "execution_count": null,
   "metadata": {
    "collapsed": false
   },
   "outputs": [],
   "source": [
    "argvs = sys.argv\n",
    "input_file = argvs[1]\n",
    "output_file = argvs[2]\n",
    "print('input file:', input_file)\n",
    "print('output file:', output_file)"
   ]
  },
  {
   "cell_type": "code",
   "execution_count": null,
   "metadata": {
    "collapsed": true
   },
   "outputs": [],
   "source": [
    "def insert(list_input):\n",
    "    \"\"\"\n",
    "    listの先頭と末尾に空の要素を追加する.\n",
    "    \"\"\"\n",
    "    list_output = deepcopy(list_input) # 値渡しでlistをコピー\n",
    "    len_ = len(list_output)\n",
    "    list_output.insert(len_, '')\n",
    "    list_output.insert(0, '')\n",
    "    return list_output"
   ]
  },
  {
   "cell_type": "code",
   "execution_count": null,
   "metadata": {
    "collapsed": false
   },
   "outputs": [],
   "source": [
    "list_ = []\n",
    "with open(input_file) as f_open:\n",
    "    print('Reading input file...')\n",
    "    tsv_reader = csv.reader(f_open, delimiter='\\t')\n",
    "    fieldname = tsv_reader.__next__()\n",
    "    column_length = len(fieldname)\n",
    "    #print(fieldname)\n",
    "    for row in tsv_reader:\n",
    "        list_.append(insert(row))\n",
    "    sep = list()\n",
    "    for i in range(column_length):\n",
    "        sep.append(':-----:')\n",
    "    list_.insert(0, insert(sep))"
   ]
  },
  {
   "cell_type": "code",
   "execution_count": null,
   "metadata": {
    "collapsed": false
   },
   "outputs": [],
   "source": [
    "with open(output_file, 'w') as f_write:\n",
    "    print('Writing output file...')\n",
    "    markdown_writer = csv.writer(f_write, delimiter='|', lineterminator='\\n')\n",
    "    markdown_writer.writerow(insert(fieldname))\n",
    "    for row in list_:\n",
    "        markdown_writer.writerow(row)\n",
    "print('Done.')"
   ]
  }
 ],
 "metadata": {
  "kernelspec": {
   "display_name": "Python 3",
   "language": "python",
   "name": "python3"
  },
  "language_info": {
   "codemirror_mode": {
    "name": "ipython",
    "version": 3
   },
   "file_extension": ".py",
   "mimetype": "text/x-python",
   "name": "python",
   "nbconvert_exporter": "python",
   "pygments_lexer": "ipython3",
   "version": "3.6.0"
  }
 },
 "nbformat": 4,
 "nbformat_minor": 2
}
